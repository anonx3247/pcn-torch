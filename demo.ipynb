{
 "cells": [
  {
   "cell_type": "markdown",
   "metadata": {},
   "source": [
    "# Predictive Coding Network PyTorch Implementation"
   ]
  },
  {
   "cell_type": "code",
   "execution_count": 1,
   "metadata": {},
   "outputs": [],
   "source": [
    "import torch\n",
    "from pcn import PCN, PCNLayer"
   ]
  },
  {
   "cell_type": "markdown",
   "metadata": {},
   "source": [
    "### MNIST Preparation"
   ]
  },
  {
   "cell_type": "code",
   "execution_count": 2,
   "metadata": {},
   "outputs": [],
   "source": [
    "def flatten_image(image):\n",
    "    return image.reshape(-1)\n",
    "\n",
    "def unflatten_image(vector, original_shape=(28,28)):\n",
    "    return vector.reshape(*original_shape)\n",
    "\n",
    "# Example usage:\n",
    "# flattened = flatten_image(image)  # [784] for MNIST\n",
    "# unflattened = unflatten_image(flattened, (1, 28, 28))  # back to [1, 28, 28]"
   ]
  },
  {
   "cell_type": "code",
   "execution_count": 3,
   "metadata": {},
   "outputs": [],
   "source": [
    "# Import MNIST\n",
    "from torchvision import datasets, transforms\n",
    "from torch.utils.data import DataLoader\n",
    "\n",
    "# Define data transformations\n",
    "transform = transforms.Compose([\n",
    "    transforms.ToTensor(),\n",
    "    transforms.Normalize((0.1307,), (0.3081,)),  # MNIST mean and std\n",
    "])\n",
    "\n",
    "# Load training data\n",
    "train_dataset = datasets.MNIST('./data', train=True, download=True, transform=transform)\n",
    "\n",
    "# Load test data\n",
    "test_dataset = datasets.MNIST('./data', train=False, transform=transform)\n"
   ]
  },
  {
   "cell_type": "markdown",
   "metadata": {},
   "source": [
    "Visualize the data:"
   ]
  },
  {
   "cell_type": "code",
   "execution_count": 4,
   "metadata": {},
   "outputs": [
    {
     "data": {
      "image/png": "[encoded data removed]",
      "text/plain": [
       "<Figure size 1200x500 with 10 Axes>"
      ]
     },
     "metadata": {},
     "output_type": "display_data"
    }
   ],
   "source": [
    "import matplotlib.pyplot as plt\n",
    "\n",
    "\n",
    "# Create a figure with a grid of subplots\n",
    "fig, axes = plt.subplots(2, 5, figsize=(12, 5))\n",
    "axes = axes.ravel()\n",
    "\n",
    "# Display 10 random images\n",
    "for idx in range(10):\n",
    "    # Unflatten the image back to 28x28 shape\n",
    "    img = train_dataset[idx][0].squeeze(0)\n",
    "    axes[idx].imshow(img, cmap='gray')\n",
    "    axes[idx].set_title(f'Label: {train_dataset[idx][1]}')\n",
    "    axes[idx].axis('off')\n",
    "plt.tight_layout()\n",
    "plt.show()\n"
   ]
  },
  {
   "cell_type": "code",
   "execution_count": 5,
   "metadata": {},
   "outputs": [],
   "source": [
    "import random\n",
    "import torch.nn.functional as F\n",
    "class MNISTDataLoader:\n",
    "    def __init__(self, dataset, shuffle=True):\n",
    "        self.dataset = dataset\n",
    "        self.shuffle = shuffle\n",
    "        self.indices = list(range(len(dataset)))\n",
    "        if shuffle:\n",
    "            random.shuffle(self.indices)\n",
    "        self.current_idx = 0\n",
    "        \n",
    "    def __iter__(self):\n",
    "        self.current_idx = 0\n",
    "        if self.shuffle:\n",
    "            random.shuffle(self.indices)\n",
    "        return self\n",
    "    \n",
    "    def __next__(self):\n",
    "        if self.current_idx >= len(self.dataset):\n",
    "            raise StopIteration\n",
    "            \n",
    "        item = self.dataset[self.indices[self.current_idx]]\n",
    "        self.current_idx += 1\n",
    "        \n",
    "        # Remove batch dimension and return as tuple\n",
    "        x = item[0].squeeze(0).reshape(-1)  # Remove batch dim\n",
    "        y = F.one_hot(torch.tensor(item[1]), num_classes=10).float()\n",
    "        return x, y\n",
    "    \n",
    "    def __len__(self):\n",
    "        return len(self.dataset)\n",
    "\n",
    "# Create data loaders\n",
    "train_loader = MNISTDataLoader(train_dataset)\n",
    "test_loader = MNISTDataLoader(test_dataset, shuffle=False)\n",
    "\n",
    "\n"
   ]
  },
  {
   "cell_type": "markdown",
   "metadata": {},
   "source": [
    "### Discriminator"
   ]
  },
  {
   "cell_type": "code",
   "execution_count": 6,
   "metadata": {},
   "outputs": [],
   "source": [
    "device = torch.device('cpu')\n",
    "discriminator = PCN(\n",
    "    [28*28, 32, 32, 10], # layer sizes\n",
    "    device=device\n",
    ")"
   ]
  },
  {
   "cell_type": "code",
   "execution_count": 7,
   "metadata": {},
   "outputs": [
    {
     "name": "stdout",
     "output_type": "stream",
     "text": [
      "Epoch 1/1\n"
     ]
    },
    {
     "name": "stderr",
     "output_type": "stream",
     "text": [
      "Training: 100%|██████████| 60000/60000 [01:04<00:00, 924.89it/s]\n"
     ]
    }
   ],
   "source": [
    "discriminator.train(\n",
    "    train_loader=train_loader,\n",
    "    epochs=1,\n",
    "    T=10,\n",
    "    gamma=0.05,\n",
    "    alpha=0.01,\n",
    "    forward=True,\n",
    "    evaluator=lambda x: x.evaluate(test_loader)\n",
    ")"
   ]
  },
  {
   "cell_type": "code",
   "execution_count": 12,
   "metadata": {},
   "outputs": [
    {
     "data": {
      "text/plain": [
       "0.8124"
      ]
     },
     "execution_count": 12,
     "metadata": {},
     "output_type": "execute_result"
    }
   ],
   "source": [
    "discriminator.evaluate(test_loader)"
   ]
  },
  {
   "cell_type": "markdown",
   "metadata": {},
   "source": [
    "### Generator"
   ]
  },
  {
   "cell_type": "code",
   "execution_count": 8,
   "metadata": {},
   "outputs": [],
   "source": [
    "def eval_generator(model):\n",
    "    for i in range(10):\n",
    "        y = F.one_hot(torch.tensor(i), num_classes=10).float()\n",
    "        x = model.generate(y)\n",
    "        x = x.reshape(28, 28)\n",
    "        plt.subplot(2, 5, i+1)\n",
    "        plt.imshow(x.detach().cpu().numpy(), cmap='gray')\n",
    "        plt.axis('off')\n",
    "        plt.title(f'Digit {i}')"
   ]
  },
  {
   "cell_type": "code",
   "execution_count": 9,
   "metadata": {},
   "outputs": [],
   "source": [
    "device = torch.device('cpu')\n",
    "generator = PCN(\n",
    "    [28*28, 32, 32, 10], # layer sizes\n",
    "    device=device\n",
    ")"
   ]
  },
  {
   "cell_type": "code",
   "execution_count": 10,
   "metadata": {},
   "outputs": [
    {
     "name": "stdout",
     "output_type": "stream",
     "text": [
      "Epoch 1/1\n"
     ]
    },
    {
     "name": "stderr",
     "output_type": "stream",
     "text": [
      "Training: 100%|██████████| 60000/60000 [01:20<00:00, 743.33it/s]\n"
     ]
    },
    {
     "data": {
      "image/png": "[encoded data removed]",
      "text/plain": [
       "<Figure size 640x480 with 10 Axes>"
      ]
     },
     "metadata": {},
     "output_type": "display_data"
    }
   ],
   "source": [
    "generator.train(\n",
    "    train_loader=train_loader,\n",
    "    epochs=1,\n",
    "    T=10,\n",
    "    gamma=0.05,\n",
    "    alpha=0.01,\n",
    "    forward=False,\n",
    "    evaluator=eval_generator\n",
    ")"
   ]
  },
  {
   "cell_type": "code",
   "execution_count": 11,
   "metadata": {},
   "outputs": [
    {
     "data": {
      "text/plain": [
       "0.394"
      ]
     },
     "execution_count": 11,
     "metadata": {},
     "output_type": "execute_result"
    }
   ],
   "source": [
    "generator.evaluate(test_loader)"
   ]
  }
 ],
 "metadata": {
  "kernelspec": {
   "display_name": ".venv",
   "language": "python",
   "name": "python3"
  },
  "language_info": {
   "codemirror_mode": {
    "name": "ipython",
    "version": 3
   },
   "file_extension": ".py",
   "mimetype": "text/x-python",
   "name": "python",
   "nbconvert_exporter": "python",
   "pygments_lexer": "ipython3",
   "version": "3.10.13"
  }
 },
 "nbformat": 4,
 "nbformat_minor": 2
}
